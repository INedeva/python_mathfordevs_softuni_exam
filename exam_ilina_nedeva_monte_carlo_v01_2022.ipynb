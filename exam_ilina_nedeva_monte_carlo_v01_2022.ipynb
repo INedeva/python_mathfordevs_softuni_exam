{
 "cells": [
  {
   "cell_type": "code",
   "execution_count": 1,
   "id": "dad85621",
   "metadata": {},
   "outputs": [],
   "source": [
    "%matplotlib inline"
   ]
  },
  {
   "cell_type": "code",
   "execution_count": 2,
   "id": "e50b9304",
   "metadata": {},
   "outputs": [],
   "source": [
    "import numpy as np\n",
    "import matplotlib.pyplot as plt\n",
    "from scipy.stats import ttest_1samp\n",
    "import timeit\n",
    "from turtle import *"
   ]
  },
  {
   "cell_type": "markdown",
   "id": "552d30e6",
   "metadata": {},
   "source": [
    "# Monte Carlo Simulation"
   ]
  },
  {
   "cell_type": "markdown",
   "id": "8bcadb9b",
   "metadata": {},
   "source": [
    "###### Abstract \n",
    "The problem we would like to address is the calculation of the area under a curve using Monte Carlo method for numerical integration and evaluating its accuracy and timeliness in comparison to the trapezoidal method for calculating the same result.\n",
    "\n",
    "Here you are provided with a brief description, implementation using python and testing using Student's t-test with one sample. \n",
    "Having in mind the null hypothesis (where the mean of the distribution of the results of the Monte Carlo integration is equal to the result of the trapezoidal rule for integration), we did not achieve any significant result and were not able to reject it.\n",
    "\n",
    "All the used sources of information are listed at the bottom. Wish you a nice reading!"
   ]
  },
  {
   "cell_type": "markdown",
   "id": "65f03df7",
   "metadata": {},
   "source": [
    "###### Keywords\n",
    "#simulation, #montecarlo, #probability, #random, #event, #analysis, #numerical, #integration, #approximation, #accuracy, #hypothesis, #numbers, #distribution, #population, #sample"
   ]
  },
  {
   "cell_type": "markdown",
   "id": "facbc34e",
   "metadata": {},
   "source": [
    "###### Content:\n",
    "\n",
    "[1.Simulation](#1.-Simulation)<br>\n",
    "[2.Monte Carlo Method](#2.-Monte-Carlo-Method)<br>\n",
    "[3.Monte Carlo method for numerical integration](#3.-Monte-Carlo-method-for-numerical-integration)<br>\n",
    "&emsp;[3.1Description of the method](#3.1.-Description-of-the-method) <br>\n",
    "[4.Implementation](#4.-Implementation)<br>\n",
    "&emsp;[4.1.Picking up an example function and an interval we are going to use for the integration](#4.1.-Picking-up-an-example-function-and-an-interval-we-are-going-to-use-for-the-integration)<br>\n",
    "&emsp;[4.2.Defining a function for the calculation of the integration using Monte Carlo Method](#4.2.-Defining-a-function-for-the-calculation-of-the-integration-using-Monte-Carlo-Method)<br>\n",
    "[5.Trapezoidal rule](#5.-Trapezoidal-rule)<br>\n",
    "[6.Accuracy - T-test with One Sample](#6.-Accuracy---T-test-with-One-Sample)<br>\n",
    "[7.Visualization](#7.-Visualization-of-the-distribution-of-Monte-Carlo-integration-results)<br>\n",
    "[8.Timing](#8.-Comparison-in-timing)<br>"
   ]
  },
  {
   "cell_type": "markdown",
   "id": "588d5fe7",
   "metadata": {},
   "source": [
    "## 1. Simulation"
   ]
  },
  {
   "cell_type": "markdown",
   "id": "e91dd473",
   "metadata": {},
   "source": [
    "Simulation is a way to model **random events**, such that simulated outcomes closely match real-world outcomes. \n",
    "It is using **randomly generated data** in order to test out statistical methods. With the analysis of the results, the assumptions can be confirmed or rejected.\n",
    "\n",
    "It can be used to estimate probabilities associated with **real-life events** (such as natural systems, human systems, economics and finance, etc.), where other methods are not so practical. Simulations are most usefull when savings in **time, effort or money** would justify an **approximation** of the result over an exact one.\n",
    "\n",
    "Examples: the result of a game of darts, the closing price of a stock, the financial status of a gambler playing roulette, the sum of a series of dice rolls\n",
    "\n",
    "Pros \n",
    "* Quick\n",
    "* Easy\n",
    "* Inexpensive\n",
    "\n",
    "*(compared to the process of real data gathering in the same quantity)*\n",
    "\n",
    "Cons\n",
    "* Loss in accuracy\n",
    "* Needs bigger samples to work better (approaching infinity would be best)\n",
    "\n",
    "The more the numbers, the better the simulation. The bigger the sample of data is, the better the approximations."
   ]
  },
  {
   "cell_type": "markdown",
   "id": "692915da",
   "metadata": {},
   "source": [
    "## 2. Monte Carlo Method"
   ]
  },
  {
   "cell_type": "markdown",
   "id": "56f7179e",
   "metadata": {},
   "source": [
    "### Description"
   ]
  },
  {
   "cell_type": "markdown",
   "id": "ae1c4c94",
   "metadata": {},
   "source": [
    "Monte Carlo method is known as statistical method for predicting the outcome of complex real-life event using random numbers as input and providing an approximation as output.\n",
    "The Monte Carlo method is used in a wide range of subjects, including mathematics, physics, biology, engineering, and finance, and in problems in which determining an analytic solution would be too time-consuming."
   ]
  },
  {
   "cell_type": "markdown",
   "id": "5cef80df",
   "metadata": {},
   "source": [
    "### Origin"
   ]
  },
  {
   "cell_type": "markdown",
   "id": "de87ebd9",
   "metadata": {},
   "source": [
    "\"French scientist Georges Buffon’s method (1777) for calculating pi from dropping needles on a surface with parallel lines on it is considered an early example of the Monte Carlo method. In 1946, while recovering from an illness, American scientist Stanislaw Ulam wondered what was the probability of winning a game of solitaire and realized that simply playing a number of games and noting the percentage of winning games would be much simpler than trying to calculate all the possible combinations of cards. He then further realized that such an approach could be applied to problems such as the production and diffusion of neutrons in radioactive material, a problem in which at each step there were so many possibilities that a solution was impossible to calculate. Ulam and American mathematician John von Neumann worked out the method in greater detail. Because the method is based on random chance, it was named after the famous Monaco casino.\""
   ]
  },
  {
   "cell_type": "markdown",
   "id": "d9d01834",
   "metadata": {},
   "source": [
    "### Esence"
   ]
  },
  {
   "cell_type": "markdown",
   "id": "61a70bcd",
   "metadata": {},
   "source": [
    "Monte Carlo simulation calculates results over and over, each time using **a different set of random values**. Depending upon the number of uncertainties and the ranges specified for them, a Monte Carlo simulation could involve thousands recalculations before it is complete. Monte Carlo simulation produces distributions of possible outcome values."
   ]
  },
  {
   "cell_type": "markdown",
   "id": "fda705bb",
   "metadata": {},
   "source": [
    "* Common probability distributions"
   ]
  },
  {
   "cell_type": "markdown",
   "id": "60e71fdb",
   "metadata": {},
   "source": [
    "<img src = \"https://www.palisade.com/images3/product/risk/en/Distributions_monteCarloSim.jpg\" style=\"width:600px;height:300px\" />"
   ]
  },
  {
   "cell_type": "markdown",
   "id": "077f90f5",
   "metadata": {},
   "source": [
    "**Normal**\n",
    "\n",
    "The user simply defines the mean or expected value and a standard deviation to describe the variation about the mean. Values in the middle near the mean are most likely to occur. It is symmetric and describes many natural phenomena such as people’s heights. Examples of variables described by normal distributions include inflation rates and energy prices.\n",
    "\n",
    "**Lognormal**\n",
    "\n",
    "Values are positively skewed, not symmetric like a normal distribution. It is used to represent values that don’t go below zero but have unlimited positive potential. Examples of variables described by lognormal distributions include real estate property values, stock prices, and oil reserves.\n",
    "\n",
    "**Uniform**\n",
    "\n",
    "All values have an equal chance of occurring, and the user simply defines the minimum and maximum. Examples of variables that could be uniformly distributed include manufacturing costs or future sales revenues for a new product.\n",
    "\n",
    "**Triangular**\n",
    "\n",
    "The user defines the minimum, most likely, and maximum values. Values around the most likely are more likely to occur. Variables that could be described by a triangular distribution include past sales history per unit of time and inventory levels.\n",
    "\n",
    "**PERT**\n",
    "\n",
    "The user defines the minimum, most likely, and maximum values, just like the triangular distribution. Values around the most likely are more likely to occur. However values between the most likely and extremes are more likely to occur than the triangular; that is, the extremes are not as emphasized. An example of the use of a PERT distribution is to describe the duration of a task in a project management model."
   ]
  },
  {
   "cell_type": "markdown",
   "id": "87fae99d",
   "metadata": {},
   "source": [
    "###  Advantages"
   ]
  },
  {
   "cell_type": "markdown",
   "id": "8687a409",
   "metadata": {},
   "source": [
    "**Probabilistic Results**\n",
    "    Results show not only what could happen, but how likely each outcome is.\n",
    "\n",
    "**Graphical Results**\n",
    "    Because of the data a Monte Carlo simulation generates, it’s easy to create graphs of different outcomes and their chances of occurrence. This is important for communicating findings to other stakeholders.\n",
    "    \n",
    "**Sensitivity Analysis**\n",
    "    With just a few cases, deterministic analysis makes it difficult to see which variables impact the outcome the most. In Monte Carlo simulation, it’s easy to see which inputs had the biggest effect on bottom-line results.\n",
    "\n",
    "**Scenario Analysis**\n",
    "    In deterministic models, it’s very difficult to model different combinations of values for different inputs to see the effects of truly different scenarios. Using Monte Carlo simulation, analysts can see exactly which inputs had which values together when certain outcomes occurred. This is invaluable for pursuing further analysis.\n",
    "\n",
    "**Correlation of Inputs**\n",
    "    In Monte Carlo simulation, it’s possible to model interdependent relationships between input variables. It’s important for accuracy to represent how, in reality, when some factors goes up, others go up or down accordingly."
   ]
  },
  {
   "cell_type": "markdown",
   "id": "1cbf6016",
   "metadata": {},
   "source": [
    "## 3. Monte Carlo method for numerical integration"
   ]
  },
  {
   "cell_type": "markdown",
   "id": "9d450c77",
   "metadata": {},
   "source": [
    "A common use of Monte Carlo methods is numeric integration using random numbers. It is a particular Monte Carlo method that numerically computes a definite integral. "
   ]
  },
  {
   "cell_type": "markdown",
   "id": "71756eb3",
   "metadata": {},
   "source": [
    "Example - using Monte Carlo Integration to calculate an approximation of $ \\pi $:"
   ]
  },
  {
   "cell_type": "markdown",
   "id": "3909b73c",
   "metadata": {},
   "source": [
    "<img src = \"https://upload.wikimedia.org/wikipedia/commons/2/20/MonteCarloIntegrationCircle.svg\" style=\"width:200px;height:200px\" />"
   ]
  },
  {
   "cell_type": "markdown",
   "id": "d775fb4a",
   "metadata": {},
   "source": [
    "*(Img source By Yoderj, Mysid - Own work, CC0, https://commons.wikimedia.org/w/index.php?curid=35608043)*\n",
    "\n",
    "An illustration of Monte Carlo integration. In this example, the domain $D$ is the inner circle and the domain $E$ is the square. Because the square's area ($4$) can be easily calculated, the area of the circle ($\\pi \\cdot 1.02$) can be estimated by the ratio ($0.8$) of the points inside the circle ($40$) to the total number of points ($50$), yielding an approximation for the circle's area of $ 4\\cdot0.8 = 3.2 \\approx \\pi$."
   ]
  },
  {
   "cell_type": "markdown",
   "id": "35628841",
   "metadata": {},
   "source": [
    "### 3.1 Description of the method"
   ]
  },
  {
   "cell_type": "markdown",
   "id": "99685275",
   "metadata": {},
   "source": [
    "Let's have a random shape with certain area on a piece of paper, and start throwing darts at it.\n",
    "Assuming that all of the darts you throw are landing on the piece of paper, the probability of a dart actually landing inside the shape is equal to the proportion of the area of the paper that is taken up by the shape itself compared to the area of the whole piece of paper.\n",
    "\n",
    "We are using this experimental probability to approximate the area taken from the shape, given the area of the whole piece of paper."
   ]
  },
  {
   "cell_type": "markdown",
   "id": "baaf3a6b",
   "metadata": {},
   "source": [
    "Since integration is just finding the area locked between a graph and the axis, we can numerically integrate a function for a given interval with the Monte Carlo method."
   ]
  },
  {
   "cell_type": "markdown",
   "id": "9ad13300",
   "metadata": {},
   "source": [
    "$$ \\frac{\\text{number of points under the graph}}{ \\text{generated points}} = \\frac{\\text{area under graph} }{\\text{area of the box }}$$"
   ]
  },
  {
   "cell_type": "markdown",
   "id": "ed5c44c4",
   "metadata": {},
   "source": [
    "After we rearange for Area under the graph, we receive:"
   ]
  },
  {
   "cell_type": "markdown",
   "id": "ac8cd460",
   "metadata": {},
   "source": [
    "$$ \\text{Area under graph} = \\frac{\\text{number of points under the graph }}{ \\text{generated points }}  \\cdot \\text{area of the box}$$ "
   ]
  },
  {
   "cell_type": "markdown",
   "id": "2e66d5bc",
   "metadata": {},
   "source": [
    "But in calculus we use definite integrals to find the area under a curve in a given interval, therefore: \n",
    "\n",
    "$$ \\int_{a}^{b}f(x)\\text{ d}x =  \\frac{\\text{number of points under the graph }}{ \\text{generated points }}  \\cdot \\text{area of the box}$$ \n"
   ]
  },
  {
   "cell_type": "markdown",
   "id": "7b2bb8c1",
   "metadata": {},
   "source": [
    "Below we will implement the Monte Carlo Method for numerical integration and compare the result to the traditional trapezoidal rule."
   ]
  },
  {
   "cell_type": "markdown",
   "id": "2e16c53d",
   "metadata": {},
   "source": [
    "## 4. Implementation"
   ]
  },
  {
   "cell_type": "markdown",
   "id": "e2c5bae0",
   "metadata": {},
   "source": [
    "### 4.1. Picking up an example function and an interval we are going to use for the integration"
   ]
  },
  {
   "cell_type": "markdown",
   "id": "735e2518",
   "metadata": {},
   "source": [
    "Let's take the $f(x)= \\frac{ln(x)}{x}$ for $x$ in $\\left[1, 10 \\right]$ as an example:"
   ]
  },
  {
   "cell_type": "code",
   "execution_count": 3,
   "id": "31e9839b",
   "metadata": {
    "scrolled": true
   },
   "outputs": [
    {
     "data": {
      "image/png": "[encoded data removed]",
      "text/plain": [
       "<Figure size 432x288 with 1 Axes>"
      ]
     },
     "metadata": {
      "needs_background": "light"
     },
     "output_type": "display_data"
    }
   ],
   "source": [
    "x = np.linspace(1, 10, 1000)\n",
    "y = np.log(x) / x\n",
    "\n",
    "plt.plot(x, y, label = \"f = ln(x)/x\")\n",
    "\n",
    "# filling the area under the plotted function\n",
    "plt.fill_between(x, y, alpha = 0.2, label = \"Integration area\")\n",
    "\n",
    "#Setting up axis, labels, ticks and title\n",
    "ax = plt.gca()\n",
    "ax.spines[\"bottom\"].set_position(\"zero\")\n",
    "ax.spines[\"left\"].set_position(\"zero\")\n",
    "ax.spines[\"top\"].set_visible(False)\n",
    "ax.spines[\"right\"].set_visible(False)\n",
    "\n",
    "plt.xlabel(\"x\", loc = \"right\")\n",
    "plt.ylabel(\"y\", loc = \"top\")\n",
    "\n",
    "plt.xlim(0, 11)\n",
    "plt.xticks(ticks = range(1,12), label = range(0,12))\n",
    "\n",
    "plt.title(r'Graph of $f(x)=\\frac{ln(x)}{x}$ for $x$ in $\\left[1, 10 \\right]$')\n",
    "\n",
    "plt.legend()\n",
    "plt.show()"
   ]
  },
  {
   "cell_type": "markdown",
   "id": "19dd5be3",
   "metadata": {},
   "source": [
    "### 4.2. Defining a function for the calculation of the integration using Monte Carlo Method "
   ]
  },
  {
   "cell_type": "code",
   "execution_count": 4,
   "id": "bb81fe31",
   "metadata": {},
   "outputs": [],
   "source": [
    "def monte_carlo_integration(function, x_min, x_max, num_points, total_darts_thrown):\n",
    "    \"\"\" \n",
    "    Parameters:\n",
    "        function - the function under which curve we will caluclate the area\n",
    "        \n",
    "        x_min and x_max - are the parameters indicating the beginning and end of the interval on x axis for calculation, \n",
    "            they should be given as x_max > x_min.\n",
    "\n",
    "        num_points - number of ponits needed for the generating the numpy array for x values in the np.linspace function\n",
    "\n",
    "        total_darts_thrown - number of all the darts we plan to throw at the piece of paper. The more the darts,\n",
    "            the bigger sample size, the better approximation of the end result\n",
    "    \n",
    "    This function calculates numerical approximation for the area under the curve of the given function in the \n",
    "    indicated interval using the Monte Carlo method.\n",
    "    The returned value is the integration result (a floating point number).\n",
    "    \"\"\"\n",
    "    \n",
    "    points_in_area = 0.0   # setting up a counter for the point landing under the curve\n",
    "    \n",
    "    # here we calculate the area of the target rectangle which I will call \"full_area\"\n",
    "    # (the piece of paper defined by points: x_min, x_max , y_min and y_max )\n",
    "    x = np.linspace(x_min, x_max, num_points)\n",
    "    f_vectorized = np.vectorize(function)\n",
    "    y = f_vectorized(x)\n",
    "    y_min = min(y)  # actually the minimum of y in our case is equal to 0\n",
    "    y_max = max(y)\n",
    "    assert len(x) == len(y)\n",
    "    full_area = abs((x_max - x_min)* (y_max - y_min))\n",
    "    \n",
    "    # throwing the darts at points with random coordinates x and y in the target rectangle, \n",
    "    # counting each one landing under the curve\n",
    "    for each_point in range(total_darts_thrown):\n",
    "        x_random = np.random.uniform(x_min, x_max)\n",
    "        y_random = np.random.uniform(y_min, y_max)\n",
    "        if y_random <= function(x_random):\n",
    "            points_in_area += 1\n",
    "    integration_result = points_in_area / total_darts_thrown * full_area\n",
    "    return integration_result\n",
    "    "
   ]
  },
  {
   "cell_type": "markdown",
   "id": "5512bd61",
   "metadata": {},
   "source": [
    "Lets call the function to see the result:"
   ]
  },
  {
   "cell_type": "code",
   "execution_count": 5,
   "id": "0d4db21d",
   "metadata": {},
   "outputs": [
    {
     "data": {
      "text/plain": [
       "2.664624368250482"
      ]
     },
     "execution_count": 5,
     "metadata": {},
     "output_type": "execute_result"
    }
   ],
   "source": [
    "function = lambda x: np.log(x) / x\n",
    "# with 10_000 points\n",
    "monte_carlo_integration(function, 1, 10, 100000, 10000)"
   ]
  },
  {
   "cell_type": "code",
   "execution_count": 6,
   "id": "205308cf",
   "metadata": {},
   "outputs": [
    {
     "data": {
      "text/plain": [
       "2.6509502894223576"
      ]
     },
     "execution_count": 6,
     "metadata": {},
     "output_type": "execute_result"
    }
   ],
   "source": [
    "# with 100_000 points \n",
    "monte_carlo_integration(function, 1, 10, 100000, 100000)"
   ]
  },
  {
   "cell_type": "markdown",
   "id": "a9478b5b",
   "metadata": {},
   "source": [
    "## 5. Trapezoidal rule"
   ]
  },
  {
   "cell_type": "markdown",
   "id": "c765ea23",
   "metadata": {},
   "source": [
    "Now we will define a function for calculating the area under the curve using the traditional trapezoidal rule:"
   ]
  },
  {
   "cell_type": "code",
   "execution_count": 7,
   "id": "c371f5df",
   "metadata": {},
   "outputs": [],
   "source": [
    "def calculate_trapezoidal_sum(function, x_min, x_max, num_points = 10000):\n",
    "    \"\"\"\n",
    "    Calculates a numerical approximation of the definite integral of the provided function\n",
    "    between the points x_min and x_max.\n",
    "    The parameter num_points specifies the number of points at which the integral will be calculated.\n",
    "    \"\"\"\n",
    "    x = np.linspace(x_min, x_max, num_points)\n",
    "    vectorized_function = np.vectorize(function)\n",
    "    y = vectorized_function(x)\n",
    "    assert len(x) == len(y)\n",
    "    \n",
    "    sum_of_func_values = np.sum(y)\n",
    "    delta_x = (x_max - x_min)/ num_points\n",
    "    \n",
    "    integration_result = (delta_x /2) * ((2 * sum_of_func_values)- y[0]- y[-1])\n",
    "    \n",
    "    return integration_result"
   ]
  },
  {
   "cell_type": "markdown",
   "id": "3113cf28",
   "metadata": {},
   "source": [
    "Lets call the function to see the result:"
   ]
  },
  {
   "cell_type": "code",
   "execution_count": 8,
   "id": "d816d0a9",
   "metadata": {},
   "outputs": [
    {
     "data": {
      "text/plain": [
       "2.6509225450648475"
      ]
     },
     "execution_count": 8,
     "metadata": {},
     "output_type": "execute_result"
    }
   ],
   "source": [
    "trapezoidal_sum = calculate_trapezoidal_sum(lambda x: np.log(x) / x, 1, 10, 100000)\n",
    "trapezoidal_sum"
   ]
  },
  {
   "cell_type": "markdown",
   "id": "9862cdca",
   "metadata": {},
   "source": [
    "## 6. Accuracy - T-test with One Sample"
   ]
  },
  {
   "cell_type": "markdown",
   "id": "c0934dac",
   "metadata": {},
   "source": [
    "We will perform the testing using the T-test of Student, generating 100 values for the integration sum using scipy library.\n",
    "\n",
    "**Null hypothesis:**  the expected value of the sample is equal to the result of the trapezoidal sum calculated above.\n",
    "\n",
    "**Alternative hypothesis** - the values differ significanly.\n",
    "\n",
    "*Disclaimer: Usually would perform the test with much higher number of iterations in order to achieve greater accuracy. Feel free to increase the number of iterations or change the parameters passed to the functions to see the different approximation results."
   ]
  },
  {
   "cell_type": "code",
   "execution_count": 9,
   "id": "4896173b",
   "metadata": {},
   "outputs": [
    {
     "data": {
      "text/plain": [
       "array([2.64588459, 2.65475784, 2.65085096, 2.64840088, 2.64959281,\n",
       "       2.65724103, 2.65697615, 2.64313653, 2.66094925, 2.64780492,\n",
       "       2.65138071, 2.6477387 , 2.65028811, 2.64985769, 2.65191045,\n",
       "       2.65366524, 2.65111584, 2.64886441, 2.65462541, 2.65442675,\n",
       "       2.64992391, 2.64787114, 2.65260575, 2.64780492, 2.65138071,\n",
       "       2.65393011, 2.64840088, 2.65157936, 2.64578526, 2.65323482,\n",
       "       2.64797047, 2.65489028, 2.65217533, 2.65873094, 2.65015567,\n",
       "       2.64744072, 2.64886441, 2.65194356, 2.6404878 , 2.65535381,\n",
       "       2.65432742, 2.64449401, 2.64307031, 2.64095133, 2.6535328 ,\n",
       "       2.65012256, 2.65194356, 2.65869783, 2.65363213, 2.64707652,\n",
       "       2.65028811, 2.65293684, 2.65909514, 2.65813497, 2.65012256,\n",
       "       2.65164558, 2.65144693, 2.65038743, 2.65763834, 2.64724206,\n",
       "       2.65161247, 2.64436157, 2.64820223, 2.65654574, 2.65141382,\n",
       "       2.65326793, 2.64403048, 2.65224155, 2.65197667, 2.63922965,\n",
       "       2.65462541, 2.652076  , 2.6484671 , 2.65042054, 2.65194356,\n",
       "       2.65005634, 2.65227466, 2.65624775, 2.64492442, 2.65114894,\n",
       "       2.65585044, 2.65181113, 2.66068438, 2.64787114, 2.65555246,\n",
       "       2.65157936, 2.6567775 , 2.65157936, 2.65071853, 2.6470103 ,\n",
       "       2.65012256, 2.65883027, 2.6498908 , 2.65184424, 2.65210911,\n",
       "       2.65187735, 2.65369835, 2.64588459, 2.65743968, 2.6513476 ])"
      ]
     },
     "execution_count": 9,
     "metadata": {},
     "output_type": "execute_result"
    }
   ],
   "source": [
    "sample_data = []\n",
    "for experiment_id in range(100):\n",
    "    integration_sum = monte_carlo_integration(function, 1, 10, 100000, 100000)\n",
    "    sample_data.append(integration_sum)\n",
    "    \n",
    "sample_data = np.array(sample_data)\n",
    "sample_data"
   ]
  },
  {
   "cell_type": "code",
   "execution_count": 10,
   "id": "f65c436a",
   "metadata": {
    "scrolled": true
   },
   "outputs": [
    {
     "data": {
      "text/plain": [
       "(2.6512433053972457, 2.6509225450648475)"
      ]
     },
     "execution_count": 10,
     "metadata": {},
     "output_type": "execute_result"
    }
   ],
   "source": [
    "sample_data.mean(), trapezoidal_sum"
   ]
  },
  {
   "cell_type": "code",
   "execution_count": 11,
   "id": "48843d75",
   "metadata": {},
   "outputs": [
    {
     "data": {
      "text/plain": [
       "0.004287596216657551"
      ]
     },
     "execution_count": 11,
     "metadata": {},
     "output_type": "execute_result"
    }
   ],
   "source": [
    "sample_data.std()"
   ]
  },
  {
   "cell_type": "code",
   "execution_count": 12,
   "id": "2d23ac6a",
   "metadata": {},
   "outputs": [
    {
     "data": {
      "text/plain": [
       "Ttest_1sampResult(statistic=0.744362306829356, pvalue=0.4584205466942092)"
      ]
     },
     "execution_count": 12,
     "metadata": {},
     "output_type": "execute_result"
    }
   ],
   "source": [
    "ttest_1samp(sample_data,trapezoidal_sum)"
   ]
  },
  {
   "cell_type": "markdown",
   "id": "e185105a",
   "metadata": {},
   "source": [
    "If the p-value is larger than 0.05, we cannot conclude that a significant difference exists. We are not able to reject the null hypothesis."
   ]
  },
  {
   "cell_type": "markdown",
   "id": "1fd0a37b",
   "metadata": {},
   "source": [
    "## 7. Visualization of the distribution of Monte Carlo integration results"
   ]
  },
  {
   "cell_type": "code",
   "execution_count": 13,
   "id": "268869d3",
   "metadata": {},
   "outputs": [
    {
     "data": {
      "image/png": "[encoded data removed]",
      "text/plain": [
       "<Figure size 432x288 with 1 Axes>"
      ]
     },
     "metadata": {
      "needs_background": "light"
     },
     "output_type": "display_data"
    }
   ],
   "source": [
    "plt.hist(sample_data)\n",
    "\n",
    "plt.axvline(sample_data.mean(), color=\"red\", label= \"mean\")\n",
    "plt.axvline(sample_data.mean()- sample_data.std(), color=\"green\", label= \"-1 std\")\n",
    "plt.axvline(sample_data.mean()+ sample_data.std(), color=\"green\", label= \"+1 std\")\n",
    "\n",
    "plt.xlabel(\"Monte Carlo integration sum\")\n",
    "plt.title(\"distribution of integration results - Monte Carlo\")\n",
    "\n",
    "plt.legend()\n",
    "plt.show()"
   ]
  },
  {
   "cell_type": "markdown",
   "id": "a7243410",
   "metadata": {},
   "source": [
    "## 8. Comparison in timing"
   ]
  },
  {
   "cell_type": "markdown",
   "id": "c257cd69",
   "metadata": {},
   "source": [
    "We will define a function for measuring the time of execution of a provided function using timeit library:"
   ]
  },
  {
   "cell_type": "code",
   "execution_count": 14,
   "id": "01719365",
   "metadata": {},
   "outputs": [],
   "source": [
    "def measure_timing(calling_of_function, count_of_measurements):\n",
    "    time_of_execution = timeit.timeit(stmt = calling_of_function, globals = globals(), number = count_of_measurements)\n",
    "    mean_time_of_execution = time_of_execution / count_of_measurements\n",
    "    return mean_time_of_execution"
   ]
  },
  {
   "cell_type": "markdown",
   "id": "10073bbb",
   "metadata": {},
   "source": [
    "Calculating the time of the trapezoidal rule:"
   ]
  },
  {
   "cell_type": "code",
   "execution_count": 15,
   "id": "bfbfab08",
   "metadata": {},
   "outputs": [
    {
     "data": {
      "text/plain": [
       "0.12344797000000085"
      ]
     },
     "execution_count": 15,
     "metadata": {},
     "output_type": "execute_result"
    }
   ],
   "source": [
    "time_trapezoidal = measure_timing('calculate_trapezoidal_sum(lambda x: np.log(x) / x, 1, 10, 100000)', 10)\n",
    "time_trapezoidal"
   ]
  },
  {
   "cell_type": "markdown",
   "id": "4a8b5a04",
   "metadata": {},
   "source": [
    "Calculating the time of the Monte Carlo Method:"
   ]
  },
  {
   "cell_type": "code",
   "execution_count": 16,
   "id": "b394898b",
   "metadata": {},
   "outputs": [
    {
     "data": {
      "text/plain": [
       "0.8119320099999996"
      ]
     },
     "execution_count": 16,
     "metadata": {},
     "output_type": "execute_result"
    }
   ],
   "source": [
    "time_monte_carlo = measure_timing('monte_carlo_integration(function, 1, 10, 100000, 100000)', 10)\n",
    "time_monte_carlo"
   ]
  },
  {
   "cell_type": "markdown",
   "id": "4b755c91",
   "metadata": {},
   "source": [
    "Lets calculate the ratio in time for the two methods:"
   ]
  },
  {
   "cell_type": "code",
   "execution_count": 17,
   "id": "85c927e5",
   "metadata": {},
   "outputs": [
    {
     "data": {
      "text/plain": [
       "6.577119170124822"
      ]
     },
     "execution_count": 17,
     "metadata": {},
     "output_type": "execute_result"
    }
   ],
   "source": [
    "ratio_in_time = time_monte_carlo / time_trapezoidal\n",
    "ratio_in_time"
   ]
  },
  {
   "cell_type": "markdown",
   "id": "f2f06c28",
   "metadata": {},
   "source": [
    "## Conclusions"
   ]
  },
  {
   "cell_type": "markdown",
   "id": "2bcc7711",
   "metadata": {},
   "source": [
    "Although the Monte Carlo method is much slower than the trapezoidal rule calculation, we did achieve great accuracy in the final appoximation. *(more than 6 times slower with this setup of parameters and taking into consideration the capabilites of my PC of course)* Monte Carlo simulation could be much more efficient and useful in the approximation of higher-dimensional integration sums."
   ]
  },
  {
   "cell_type": "markdown",
   "id": "996c4a90",
   "metadata": {},
   "source": [
    "..... Somehow you managed to get to this part ... Such a patience of yours! \n",
    "Well, let's have some fun!"
   ]
  },
  {
   "cell_type": "markdown",
   "id": "7c9a3fed",
   "metadata": {},
   "source": [
    "### A little bit of Numpy in my life\n",
    "#### A little bit of timeit by my side\n",
    "##### A little bit of Turtle is all I need\n",
    "###### A little bit of scipy is what I see"
   ]
  },
  {
   "cell_type": "markdown",
   "id": "91b91358",
   "metadata": {},
   "source": [
    "All of this randomness led me to a random change in the topic. Let's draw a three using recursion and the Turtle library (as we did in the homework) but we will spice things a little bit by multiplying the angle by a randomly generated number between 0 and 1. The result looks more like a three drawn by Picasso, don't you think ?"
   ]
  },
  {
   "cell_type": "code",
   "execution_count": 18,
   "id": "4b44b4de",
   "metadata": {},
   "outputs": [],
   "source": [
    "def draw_branch(branch_length, angle, branch_width):\n",
    "    if branch_length > 5:\n",
    "        width(branch_width)\n",
    "        forward(branch_length)\n",
    "        right(angle*np.random.rand())\n",
    "        draw_branch(branch_length - 15, angle, branch_width - 1.5)\n",
    "        left(2 * angle)\n",
    "        draw_branch(branch_length - 15, angle, branch_width - 1.5)\n",
    "        right(angle*np.random.rand())\n",
    "        backward(branch_length)\n",
    "        \n",
    "        \n",
    "def draw_tree(trunk_length, angle, trunk_width):\n",
    "    speed(\"fastest\")\n",
    "    left(90)\n",
    "    up()\n",
    "    backward(trunk_length/2)\n",
    "    down()\n",
    "    draw_branch(trunk_length, angle, trunk_width)\n",
    "    done()"
   ]
  },
  {
   "cell_type": "code",
   "execution_count": 19,
   "id": "dadfc331",
   "metadata": {},
   "outputs": [],
   "source": [
    "draw_tree(100, 30, 12)"
   ]
  },
  {
   "cell_type": "markdown",
   "id": "9fba14de",
   "metadata": {},
   "source": [
    "###  References"
   ]
  },
  {
   "cell_type": "markdown",
   "id": "a77a1dd5",
   "metadata": {},
   "source": [
    "1. [Stat Trek](https://stattrek.com/experiments/simulation.aspx)\n",
    "\n",
    "2. [Magoosh Statistic Blog](https://magoosh.com/statistics/simulation-statistics-explained/#:~:text=Simulation%20statistics%20is%20using%20artificially,data%20to%20test%20them%20out)\n",
    "\n",
    "3. [Wikipedia - Simulation](https://en.wikipedia.org/wiki/Simulation)\n",
    "\n",
    "4. [Wikipeadia - Monte Carlo](https://en.wikipedia.org/wiki/Monte_Carlo_method)\n",
    "\n",
    "5. [Wikipedia - Monte Carlo Integration](https://en.wikipedia.org/wiki/Monte_Carlo_integration)\n",
    "\n",
    "6. [The Monte Carlo Method - Youtube](https://www.youtube.com/watch?v=q6gJ2T0NSwM)\n",
    "\n",
    "7. [GeeksForGeeks](https://www.geeksforgeeks.org/timeit-python-examples/)\n",
    "\n",
    "8. [PyNative](https://pynative.com/python-get-execution-time-of-program/#wall-time-vs-cpu-time)\n",
    "\n",
    "9. [Britannica](https://www.britannica.com/science/Monte-Carlo-method)\n",
    "\n",
    "10. [Palisade](https://www.palisade.com/risk/monte_carlo_simulation.asp)\n",
    "\n",
    "11. [MIT OpenCourseWare - 6. Monte Carlo Simulation](https://www.youtube.com/watch?v=OgO1gpXSUzU)"
   ]
  },
  {
   "cell_type": "markdown",
   "id": "9ccb2f72",
   "metadata": {},
   "source": [
    "*Ilina Nedeva* <br/>\n",
    "ilina.nedeva94@gmail.com <br/>\n",
    "Varna, Bulgaria\n",
    "09.06.2022"
   ]
  }
 ],
 "metadata": {
  "kernelspec": {
   "display_name": "Python 3 (ipykernel)",
   "language": "python",
   "name": "python3"
  },
  "language_info": {
   "codemirror_mode": {
    "name": "ipython",
    "version": 3
   },
   "file_extension": ".py",
   "mimetype": "text/x-python",
   "name": "python",
   "nbconvert_exporter": "python",
   "pygments_lexer": "ipython3",
   "version": "3.9.7"
  }
 },
 "nbformat": 4,
 "nbformat_minor": 5
}
